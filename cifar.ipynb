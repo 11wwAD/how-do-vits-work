{
 "cells": [
  {
   "cell_type": "markdown",
   "metadata": {},
   "source": [
    "# Classification on CIFAR"
   ]
  },
  {
   "cell_type": "code",
   "execution_count": null,
   "metadata": {},
   "outputs": [],
   "source": [
    "import os\n",
    "import time\n",
    "import json\n",
    "import copy\n",
    "from pathlib import Path\n",
    "import datetime\n",
    "import csv\n",
    "\n",
    "import numpy as np\n",
    "import matplotlib.pyplot as plt\n",
    "\n",
    "import torch\n",
    "from torch.utils.data import DataLoader\n",
    "from torch.utils.tensorboard import SummaryWriter\n",
    "import torchvision\n",
    "\n",
    "import ops.trains as trains\n",
    "import ops.tests as tests\n",
    "import ops.datasets as datasets\n",
    "import ops.schedulers as schedulers\n",
    "import models"
   ]
  },
  {
   "cell_type": "code",
   "execution_count": null,
   "metadata": {},
   "outputs": [],
   "source": [
    "# config_path = \"configs/cifar10_general.json\"\n",
    "config_path = \"configs/cifar100_general.json\"\n",
    "\n",
    "with open(config_path) as f:\n",
    "    args = json.load(f)\n",
    "    print(\"args: \\n\", args)"
   ]
  },
  {
   "cell_type": "code",
   "execution_count": null,
   "metadata": {},
   "outputs": [],
   "source": [
    "dataset_args = copy.deepcopy(args).get(\"dataset\")\n",
    "train_args = copy.deepcopy(args).get(\"train\")\n",
    "val_args = copy.deepcopy(args).get(\"val\")\n",
    "\n",
    "dataset_train, dataset_test = datasets.get_dataset(**dataset_args, download=True)\n",
    "dataset_name = dataset_args[\"name\"]\n",
    "num_classes = len(dataset_train.classes)\n",
    "\n",
    "dataset_train = DataLoader(dataset_train, \n",
    "                           shuffle=True, \n",
    "                           num_workers=train_args.get(\"num_workers\", 4), \n",
    "                           batch_size=train_args.get(\"batch_size\", 128))\n",
    "dataset_test = DataLoader(dataset_test, \n",
    "                          num_workers=val_args.get(\"num_workers\", 4), \n",
    "                          batch_size=val_args.get(\"batch_size\", 128))\n",
    "\n",
    "print(\"Train: %s, Test: %s, Classes: %s\" % (\n",
    "    len(dataset_train.dataset), \n",
    "    len(dataset_test.dataset), \n",
    "    num_classes\n",
    "))"
   ]
  },
  {
   "cell_type": "markdown",
   "metadata": {},
   "source": [
    "## Model"
   ]
  },
  {
   "cell_type": "code",
   "execution_count": null,
   "metadata": {},
   "outputs": [],
   "source": [
    "# VGG\n",
    "# name = \"vgg_dnn_19\"\n",
    "# name = \"vgg_mcdo_19\"\n",
    "# name = \"vgg_dnn_smoothing_19\"\n",
    "# name = \"vgg_mcdo_smoothing_19\"\n",
    "\n",
    "# ResNet\n",
    "# name = \"resnet_dnn_18\"\n",
    "# name = \"resnet_mcdo_18\"\n",
    "# name = \"resnet_dnn_smoothing_18\"\n",
    "name = \"resnet_mcdo_smoothing_18\"\n",
    "\n",
    "# name = \"resnet_dnn_50\"\n",
    "# name = \"resnet_mcdo_50\"\n",
    "# name = \"resnet_dnn_smoothing_50\"\n",
    "# name = \"resnet_mcdo_smoothing_50\"\n",
    "\n",
    "# Preact ResNet\n",
    "# name = \"preresnet_dnn_18\"\n",
    "# name = \"preresnet_mcdo_18\"\n",
    "# name = \"preresnet_dnn_smoothing_18\"\n",
    "# name = \"preresnet_mcdo_smoothing_18\"\n",
    "\n",
    "# name = \"preresnet_dnn_50\"\n",
    "# name = \"preresnet_mcdo_50\"\n",
    "# name = \"preresnet_dnn_smoothing_50\"\n",
    "# name = \"preresnet_mcdo_smoothing_50\"\n",
    "\n",
    "# ResNeXt\n",
    "# name = \"resnext_dnn_50\"\n",
    "# name = \"resnext_mcdo_50\"\n",
    "# name = \"resnext_dnn_smoothing_50\"\n",
    "# name = \"resnext_mcdo_smoothing_50\"\n",
    "\n",
    "# WideResNet\n",
    "# name = \"wideresnet_dnn_50\"\n",
    "# name = \"wideresnet_mcdo_50\"\n",
    "# name = \"wideresnet_dnn_smoothing_50\"\n",
    "# name = \"wideresnet_mcdo_smoothing_50\"\n",
    "\n",
    "\n",
    "model = models.get_model(name, num_classes=num_classes, tiny=True, temp=5e1)\n",
    "# models.load(model, dataset_name, saved_time)"
   ]
  },
  {
   "cell_type": "markdown",
   "metadata": {},
   "source": [
    "## Train"
   ]
  },
  {
   "cell_type": "markdown",
   "metadata": {},
   "source": [
    "Define a TensorBoard writer:"
   ]
  },
  {
   "cell_type": "code",
   "execution_count": null,
   "metadata": {},
   "outputs": [],
   "source": [
    "current_time = datetime.datetime.now().strftime(\"%Y%m%d_%H%M%S\")\n",
    "log_dir = os.path.join(\"runs\", dataset_name, model.name, current_time)\n",
    "writer = SummaryWriter(log_dir)\n",
    "\n",
    "with open(\"%s/config.json\" % log_dir, \"w\") as f:\n",
    "    json.dump(args, f)\n",
    "with open(\"%s/model.log\" % log_dir, \"w\") as f:\n",
    "    f.write(repr(model))\n",
    "\n",
    "print(\"Create TensorBoard log dir: \", log_dir)"
   ]
  },
  {
   "cell_type": "markdown",
   "metadata": {},
   "source": [
    "Train the model:"
   ]
  },
  {
   "cell_type": "code",
   "execution_count": null,
   "metadata": {
    "scrolled": false
   },
   "outputs": [],
   "source": [
    "train_args = copy.deepcopy(args).get(\"train\")\n",
    "epochs = train_args.pop(\"epochs\")\n",
    "warmup_epochs = train_args.get(\"warmup_epochs\", 0)\n",
    "val_args = copy.deepcopy(args).get(\"val\")\n",
    "n_ff = val_args.pop(\"n_ff\", 1)\n",
    "gpu = torch.cuda.is_available()\n",
    "\n",
    "optim_args = copy.deepcopy(args).get(\"optim\")\n",
    "optimizer, train_scheduler = trains.get_optimizer(model, **optim_args)\n",
    "warmup_scheduler = schedulers.WarmupScheduler(optimizer, len(dataset_train) * warmup_epochs)\n",
    "\n",
    "model = model.cuda() if gpu else model.cpu()\n",
    "warmup_time = time.time()\n",
    "for epoch in range(warmup_epochs):\n",
    "    *train_metrics, = trains.train_epoch(optimizer, model, dataset_train, \n",
    "                                         warmup_scheduler, gpu=gpu)\n",
    "if warmup_epochs > 0:\n",
    "    print(\"The model is warmed up: %.2f sec\" % (time.time() - warmup_time))\n",
    "\n",
    "for epoch in range(epochs):\n",
    "    batch_time = time.time()\n",
    "    *train_metrics, = trains.train_epoch(optimizer, model, dataset_train, \n",
    "                                         gpu=gpu)\n",
    "    train_scheduler.step()\n",
    "    batch_time = time.time() - batch_time\n",
    "    \n",
    "    if (epoch + 1) % 1 == 0:\n",
    "        trains.add_train_metrics(writer, train_metrics, epoch)\n",
    "        template = \"(%.2f sec/epoch) Epoch: %d, Loss: %.4f, lr: %.3e\"\n",
    "        print(template % (batch_time,\n",
    "                          epoch,\n",
    "                          train_metrics[0], \n",
    "                          [param_group[\"lr\"] for param_group in optimizer.param_groups][0]))\n",
    "    \n",
    "    if (epoch + 1) % 1 == 0:\n",
    "        *test_metrics, cal_diag = tests.test(model, n_ff, dataset_test, num_classes, verbose=False, gpu=gpu)\n",
    "        trains.add_test_metrics(writer, test_metrics, epoch)\n",
    "\n",
    "        cal_diag = torchvision.utils.make_grid(cal_diag)\n",
    "        writer.add_image(\"test/calibration diagrams\", cal_diag, global_step=epoch)\n",
    "\n",
    "#         for name, param in model.named_parameters():\n",
    "#             name = name.split(\".\")\n",
    "#             writer.add_histogram(\"%s/%s\" % (name[0], \".\".join(name[1:])), param, global_step=epoch)\n"
   ]
  },
  {
   "cell_type": "markdown",
   "metadata": {},
   "source": [
    "Save the model:"
   ]
  },
  {
   "cell_type": "code",
   "execution_count": null,
   "metadata": {},
   "outputs": [],
   "source": [
    "models.save(model, dataset_name, current_time, optimizer=optimizer)"
   ]
  },
  {
   "cell_type": "markdown",
   "metadata": {},
   "source": [
    "## Test"
   ]
  },
  {
   "cell_type": "code",
   "execution_count": null,
   "metadata": {},
   "outputs": [],
   "source": [
    "gpu = torch.cuda.is_available()\n",
    "\n",
    "model = model.cuda() if gpu else model.cpu()\n",
    "*metrics, cal_diag = tests.test(model, 1, dataset_test, verbose=True, gpu=gpu)\n",
    "metrics_list = [[1, *metrics]]\n",
    "\n",
    "leaderboard_path = os.path.join(\"leaderboard\", \"logs\", dataset_name, model.name)\n",
    "Path(leaderboard_path).mkdir(parents=True, exist_ok=True)\n",
    "metrics_dir = os.path.join(leaderboard_path, \"%s_%s_%s.csv\" % (dataset_name, model.name, current_time))\n",
    "tests.save_metrics(metrics_dir, metrics_list)"
   ]
  },
  {
   "cell_type": "code",
   "execution_count": null,
   "metadata": {},
   "outputs": [],
   "source": [
    "gpu = torch.cuda.is_available()\n",
    "\n",
    "model = model.cuda() if gpu else model.cpu()\n",
    "metrics_list = []\n",
    "for n_ff in [1, 2, 3, 4, 5, 10, 20, 50]:\n",
    "    print(\"N: %s, \" % n_ff, end=\"\")\n",
    "    *metrics, cal_diag = tests.test(model, n_ff, dataset_test, verbose=False, gpu=gpu)\n",
    "    metrics_list.append([n_ff, *metrics])\n",
    "\n",
    "leaderboard_path = os.path.join(\"leaderboard\", \"logs\", dataset_name, model.name)\n",
    "Path(leaderboard_path).mkdir(parents=True, exist_ok=True)\n",
    "metrics_dir = os.path.join(leaderboard_path, \"%s_%s_%s.csv\" % (dataset_name, model.name, current_time))\n",
    "tests.save_metrics(metrics_dir, metrics_list)"
   ]
  },
  {
   "cell_type": "code",
   "execution_count": null,
   "metadata": {},
   "outputs": [],
   "source": []
  }
 ],
 "metadata": {
  "kernelspec": {
   "display_name": "Python 3",
   "language": "python",
   "name": "python3"
  },
  "language_info": {
   "codemirror_mode": {
    "name": "ipython",
    "version": 3
   },
   "file_extension": ".py",
   "mimetype": "text/x-python",
   "name": "python",
   "nbconvert_exporter": "python",
   "pygments_lexer": "ipython3",
   "version": "3.7.7"
  },
  "pycharm": {
   "stem_cell": {
    "cell_type": "raw",
    "metadata": {
     "collapsed": false
    },
    "source": []
   }
  }
 },
 "nbformat": 4,
 "nbformat_minor": 2
}
