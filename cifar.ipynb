{
 "cells": [
  {
   "cell_type": "markdown",
   "metadata": {},
   "source": [
    "# Classification on CIFAR"
   ]
  },
  {
   "cell_type": "code",
   "execution_count": null,
   "metadata": {},
   "outputs": [],
   "source": [
    "import time\n",
    "import json\n",
    "import copy\n",
    "from pathlib import Path\n",
    "import datetime\n",
    "\n",
    "import numpy as np\n",
    "import matplotlib.pyplot as plt\n",
    "\n",
    "import torch\n",
    "from torch.utils.data import DataLoader\n",
    "from torch.utils.tensorboard import SummaryWriter\n",
    "import torchvision\n",
    "\n",
    "import ops.trains as trains\n",
    "import ops.tests as tests\n",
    "import ops.datasets as datasets\n",
    "import ops.schedulers as schedulers"
   ]
  },
  {
   "cell_type": "code",
   "execution_count": null,
   "metadata": {},
   "outputs": [],
   "source": [
    "# config_path = \"configs/cifar10_general.json\"\n",
    "config_path = \"configs/cifar100_general.json\"\n",
    "\n",
    "with open(config_path) as f:\n",
    "    args = json.load(f)\n",
    "    \n",
    "print(\"args: \\n\", args)"
   ]
  },
  {
   "cell_type": "code",
   "execution_count": null,
   "metadata": {},
   "outputs": [],
   "source": [
    "dataset_args = copy.deepcopy(args).get(\"dataset\")\n",
    "train_args = copy.deepcopy(args).get(\"train\")\n",
    "val_args = copy.deepcopy(args).get(\"val\")\n",
    "\n",
    "dataset_train, dataset_test = datasets.get_dataset(**dataset_args, root=\"../data\")\n",
    "dataset_name = dataset_args[\"name\"]\n",
    "num_classes = len(dataset_train.classes)\n",
    "\n",
    "dataset_train = DataLoader(dataset_train, \n",
    "                           shuffle=True, \n",
    "                           num_workers=train_args.get(\"num_workers\", 4), \n",
    "                           batch_size=train_args.get(\"batch_size\", 128))\n",
    "dataset_test = DataLoader(dataset_test, \n",
    "                          num_workers=val_args.get(\"num_workers\", 4), \n",
    "                          batch_size=val_args.get(\"batch_size\", 128))\n",
    "\n",
    "print(\"Train: %s, Test: %s, Classes: %s\" % (\n",
    "    len(dataset_train.dataset), \n",
    "    len(dataset_test.dataset), \n",
    "    num_classes\n",
    "))"
   ]
  },
  {
   "cell_type": "markdown",
   "metadata": {},
   "source": [
    "## Model"
   ]
  },
  {
   "cell_type": "markdown",
   "metadata": {},
   "source": [
    "### VGG"
   ]
  },
  {
   "cell_type": "markdown",
   "metadata": {},
   "source": [
    "VGG-19:"
   ]
  },
  {
   "cell_type": "code",
   "execution_count": null,
   "metadata": {},
   "outputs": [],
   "source": [
    "import models.vggnet as vgg\n",
    "\n",
    "model = vgg.dnn_19(num_classes=num_classes)\n",
    "# model.load_state_dict(torch.load(\"models_checkpoints/%s_%s\" % (dataset_name, model.name)))\n",
    "    \n",
    "xs = torch.randn([3, 3, 32, 32])\n",
    "ys = model(xs)\n",
    "print(\"model: %s, output: %s\" % (model.name, ys.size()))"
   ]
  },
  {
   "cell_type": "code",
   "execution_count": null,
   "metadata": {},
   "outputs": [],
   "source": [
    "import models.vggnet as vgg\n",
    "\n",
    "model = vgg.mcdo_19(num_classes=num_classes)\n",
    "# model.load_state_dict(torch.load(\"models_checkpoints/%s_%s\" % (dataset_name, model.name)))\n",
    "    \n",
    "xs = torch.randn([3, 3, 32, 32])\n",
    "ys = model(xs)\n",
    "print(\"model: %s, output: %s\" % (model.name, ys.size()))"
   ]
  },
  {
   "cell_type": "code",
   "execution_count": null,
   "metadata": {},
   "outputs": [],
   "source": [
    "import models.vggnet as vgg\n",
    "import models.vggnet_dnn_block as vggnet_dnn\n",
    "\n",
    "model = vgg.VGGNet(vggnet_dnn.BasicBlock, [2, 2, 4, 4, 4],\n",
    "                   sfilter=(1, 1), num_sblocks=(1, 1, 1, 1, 1),\n",
    "                   temp=2e1,\n",
    "                   num_classes=num_classes, name=\"vgg_dnn_smoothing_19\")\n",
    "# model.load_state_dict(torch.load(\"models_checkpoints/%s_%s\" % (dataset_name, model.name)))\n",
    "    \n",
    "xs = torch.randn([3, 3, 32, 32])\n",
    "ys = model(xs)\n",
    "print(\"model: %s, output: %s\" % (model.name, ys.size()))"
   ]
  },
  {
   "cell_type": "code",
   "execution_count": null,
   "metadata": {},
   "outputs": [],
   "source": [
    "import models.vggnet as vgg\n",
    "import models.vggnet_mcdo_block as vggnet_mcdo\n",
    "\n",
    "model = vgg.VGGNet(vggnet_mcdo.BasicBlock, [2, 2, 4, 4, 4],\n",
    "                   sfilter=(1, 1), num_sblocks=(1, 1, 1, 1, 1), temp=2e1,\n",
    "                   num_classes=num_classes, name=\"vgg_mcdo_smoothing_19\")\n",
    "# model.load_state_dict(torch.load(\"models_checkpoints/%s_%s\" % (dataset_name, model.name)))\n",
    "    \n",
    "xs = torch.randn([3, 3, 32, 32])\n",
    "ys = model(xs)\n",
    "print(\"model: %s, output: %s\" % (model.name, ys.size()))"
   ]
  },
  {
   "cell_type": "markdown",
   "metadata": {},
   "source": [
    "## Train"
   ]
  },
  {
   "cell_type": "markdown",
   "metadata": {},
   "source": [
    "Define a TensorBoard writer:"
   ]
  },
  {
   "cell_type": "code",
   "execution_count": null,
   "metadata": {},
   "outputs": [],
   "source": [
    "current_time = datetime.datetime.now().strftime(\"%Y%m%d-%H%M%S\")\n",
    "log_dir = \"runs/%s_%s/%s\" % (dataset_name, model.name, current_time)\n",
    "writer = SummaryWriter(log_dir)\n",
    "\n",
    "with open(\"%s/config.json\" % log_dir, \"w\") as f:\n",
    "    json.dump(args, f)\n",
    "\n",
    "print(\"Create TensorBoard log dir: \", log_dir)"
   ]
  },
  {
   "cell_type": "markdown",
   "metadata": {},
   "source": [
    "Train the model:"
   ]
  },
  {
   "cell_type": "code",
   "execution_count": null,
   "metadata": {
    "scrolled": false
   },
   "outputs": [],
   "source": [
    "train_args = copy.deepcopy(args).get(\"train\")\n",
    "epochs = train_args.pop(\"epochs\")\n",
    "warmup_epochs = train_args.get(\"warmup_epochs\", 0)\n",
    "val_args = copy.deepcopy(args).get(\"val\")\n",
    "n_ff = val_args.pop(\"n_ff\", 1)\n",
    "gpu = args.get(\"gpu\", False)\n",
    "\n",
    "optim_args = copy.deepcopy(args).get(\"optim\")\n",
    "optimizer, train_scheduler = trains.get_optimizer(model, **optim_args)\n",
    "warmup_scheduler = schedulers.WarmupScheduler(optimizer, len(dataset_train) * warmup_epochs)\n",
    "\n",
    "if gpu:\n",
    "    model = model.cuda()\n",
    "\n",
    "for epoch in range(warmup_epochs):\n",
    "    batch_time = time.time()\n",
    "    nll = trains.train_epoch(optimizer, model, dataset_train, warmup_scheduler, gpu=gpu)\n",
    "    print(\"The model is warmed up: %.2f sec\" % (time.time() - batch_time))\n",
    "\n",
    "for epoch in range(epochs):\n",
    "    batch_time = time.time()\n",
    "    nll = trains.train_epoch(optimizer, model, dataset_train, gpu=gpu)\n",
    "    train_scheduler.step()\n",
    "    batch_time = time.time() - batch_time\n",
    "    \n",
    "    if (epoch + 1) % 1 == 0:\n",
    "        writer.add_scalar(\"train/nll\", nll, global_step=epoch)\n",
    "        template = \"(%.2f sec/epoch) Epoch: %d, NLL: %.4f, lr: %.3e\"\n",
    "        print(template % (batch_time,\n",
    "                          epoch,\n",
    "                          nll, \n",
    "                          [param_group[\"lr\"] for param_group in optimizer.param_groups][0]))\n",
    "            \n",
    "    if (epoch + 1) % 1 == 0:\n",
    "        metrics = tests.test(model, n_ff, dataset_test, num_classes, verbose=False, gpu=gpu)\n",
    "        \n",
    "        writer.add_scalar(\"test/nll\", metrics[0], global_step=epoch)\n",
    "        writer.add_scalar(\"test/acc\", metrics[2][0], global_step=epoch)\n",
    "        writer.add_scalar(\"test/acc-90\", metrics[2][1], global_step=epoch)\n",
    "        writer.add_scalar(\"test/unc-90\", metrics[3][1], global_step=epoch)\n",
    "        writer.add_scalar(\"test/iou\", metrics[4][0], global_step=epoch)\n",
    "        writer.add_scalar(\"test/iou-90\", metrics[4][1], global_step=epoch)\n",
    "        writer.add_scalar(\"test/freq-90\", metrics[5][1], global_step=epoch)\n",
    "        writer.add_scalar(\"test/top-5\", metrics[6], global_step=epoch)\n",
    "        writer.add_scalar(\"test/brier\", metrics[7], global_step=epoch)\n",
    "        writer.add_scalar(\"test/ece\", metrics[11], global_step=epoch)\n",
    "\n",
    "        cal_diag = torchvision.utils.make_grid(metrics[12])\n",
    "        writer.add_image(\"test/calibration diagrams\", cal_diag, global_step=epoch)\n",
    "\n",
    "        for name, param in model.named_parameters():\n",
    "            name = name.split(\".\")\n",
    "            writer.add_histogram(\"%s/%s\" % (name[0], \".\".join(name[1:])), param, global_step=epoch)\n"
   ]
  },
  {
   "cell_type": "markdown",
   "metadata": {},
   "source": [
    "Save the model:"
   ]
  },
  {
   "cell_type": "code",
   "execution_count": null,
   "metadata": {},
   "outputs": [],
   "source": [
    "Path(\"models_checkpoints\").mkdir(parents=True, exist_ok=True)\n",
    "torch.save(model.state_dict(), \"models_checkpoints/%s_%s\" % (dataset_name, model.name))"
   ]
  },
  {
   "cell_type": "markdown",
   "metadata": {},
   "source": [
    "## Test"
   ]
  },
  {
   "cell_type": "code",
   "execution_count": null,
   "metadata": {},
   "outputs": [],
   "source": [
    "gpu = args.get(\"gpu\", False)\n",
    "\n",
    "if gpu:\n",
    "    model = model.cuda()\n",
    "\n",
    "metrics = tests.test(model, 1, dataset_test, num_classes, verbose=True, gpu=gpu)"
   ]
  },
  {
   "cell_type": "code",
   "execution_count": null,
   "metadata": {},
   "outputs": [],
   "source": [
    "gpu = args.get(\"gpu\", False)\n",
    "\n",
    "if gpu:\n",
    "    model = model.gpu()\n",
    "\n",
    "for n_ff in [1, 2, 3, 4, 5, 10, 30, 50]:\n",
    "    print('N: %s, ' % n_ff, end='')\n",
    "    metrics = tests.test(model, n_ff, dataset_test, num_classes, verbose=False, gpu=gpu)"
   ]
  },
  {
   "cell_type": "code",
   "execution_count": null,
   "metadata": {},
   "outputs": [],
   "source": []
  }
 ],
 "metadata": {
  "kernelspec": {
   "display_name": "Python 3",
   "language": "python",
   "name": "python3"
  },
  "language_info": {
   "codemirror_mode": {
    "name": "ipython",
    "version": 3
   },
   "file_extension": ".py",
   "mimetype": "text/x-python",
   "name": "python",
   "nbconvert_exporter": "python",
   "pygments_lexer": "ipython3",
   "version": "3.7.7"
  },
  "pycharm": {
   "stem_cell": {
    "cell_type": "raw",
    "metadata": {
     "collapsed": false
    },
    "source": []
   }
  }
 },
 "nbformat": 4,
 "nbformat_minor": 2
}
